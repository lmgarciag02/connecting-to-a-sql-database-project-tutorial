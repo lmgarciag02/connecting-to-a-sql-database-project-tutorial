{
 "cells": [
  {
   "cell_type": "markdown",
   "metadata": {},
   "source": [
    "# Explora aquí\n",
    "\n",
    "Se recomienda utilizar este cuaderno con fines de exploración.\n",
    "\n",
    "Por ejemplo:\n",
    "\n",
    "1. Puede importar el CSV generado por Python a su computadora portátil y explorarlo.\n",
    "2. Puede conectarse a su base de datos usando `pandas.read_sql` desde este cuaderno y explorarla."
   ]
  },
  {
   "cell_type": "code",
   "execution_count": 188,
   "metadata": {},
   "outputs": [],
   "source": [
    "from sqlalchemy import create_engine, text\n",
    "import os\n",
    "from dotenv import load_dotenv\n",
    "\n",
    "# Cargar las variables de entorno\n",
    "load_dotenv()\n",
    "\n",
    "# Configurar la conexión\n",
    "connection_string = f\"postgresql+psycopg2://{os.getenv('DB_USER')}:{os.getenv('DB_PASSWORD')}@{os.getenv('DB_HOST')}/{os.getenv('DB_NAME')}\"\n",
    "engine = create_engine(connection_string)"
   ]
  },
  {
   "cell_type": "code",
   "execution_count": 189,
   "metadata": {},
   "outputs": [],
   "source": [
    "# Definir las consultas SQL para la creación de tablas\n",
    "queries = [\n",
    "    text(\"\"\"\n",
    "    CREATE TABLE IF NOT EXISTS publishers (\n",
    "        publisher_id SERIAL PRIMARY KEY,\n",
    "        name VARCHAR(255) NOT NULL\n",
    "    );\n",
    "    \"\"\"),\n",
    "    \n",
    "    text(\"\"\"\n",
    "    CREATE TABLE IF NOT EXISTS authors (\n",
    "        author_id SERIAL PRIMARY KEY,\n",
    "        first_name VARCHAR(100) NOT NULL,\n",
    "        middle_name VARCHAR(50) NULL,\n",
    "        last_name VARCHAR(100) NULL\n",
    "    );\n",
    "    \"\"\"),\n",
    "    \n",
    "    text(\"\"\"\n",
    "    CREATE TABLE IF NOT EXISTS books (\n",
    "        book_id SERIAL PRIMARY KEY,\n",
    "        title VARCHAR(255) NOT NULL,\n",
    "        total_pages INT NULL,\n",
    "        rating DECIMAL(4,2) NULL,\n",
    "        isbn VARCHAR(13) NULL UNIQUE,\n",
    "        published_date DATE,\n",
    "        publisher_id INT NULL,\n",
    "        CONSTRAINT fk_publisher FOREIGN KEY (publisher_id) \n",
    "            REFERENCES publishers (publisher_id) ON DELETE SET NULL\n",
    "    );\n",
    "    \"\"\"),\n",
    "    \n",
    "    text(\"\"\"\n",
    "    CREATE TABLE IF NOT EXISTS book_authors (\n",
    "        book_id INT NOT NULL,\n",
    "        author_id INT NOT NULL,\n",
    "        PRIMARY KEY (book_id, author_id),\n",
    "        CONSTRAINT fk_book FOREIGN KEY (book_id) \n",
    "            REFERENCES books (book_id) ON DELETE CASCADE,\n",
    "        CONSTRAINT fk_author FOREIGN KEY (author_id) \n",
    "            REFERENCES authors (author_id) ON DELETE CASCADE\n",
    "    );\n",
    "    \"\"\")\n",
    "]\n"
   ]
  },
  {
   "cell_type": "code",
   "execution_count": 191,
   "metadata": {},
   "outputs": [
    {
     "name": "stdout",
     "output_type": "stream",
     "text": [
      "Error al crear las tablas: 'Connection' object has no attribute 'commit'\n"
     ]
    }
   ],
   "source": [
    "#Ejecutar las consultas de creación de tablas\n",
    "try:\n",
    "    with engine.connect() as connection:\n",
    "        for query in queries:\n",
    "            connection.execute(query)\n",
    "        connection.commit()\n",
    "    print(\"Tablas creadas exitosamente.\")\n",
    "except Exception as e:\n",
    "    print(f\"Error al crear las tablas: {e}\")"
   ]
  }
 ],
 "metadata": {
  "kernelspec": {
   "display_name": "Python 3",
   "language": "python",
   "name": "python3"
  },
  "language_info": {
   "codemirror_mode": {
    "name": "ipython",
    "version": 3
   },
   "file_extension": ".py",
   "mimetype": "text/x-python",
   "name": "python",
   "nbconvert_exporter": "python",
   "pygments_lexer": "ipython3",
   "version": "3.12.9"
  },
  "orig_nbformat": 4
 },
 "nbformat": 4,
 "nbformat_minor": 2
}
